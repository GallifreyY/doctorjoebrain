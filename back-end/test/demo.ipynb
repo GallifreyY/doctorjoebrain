{
 "cells": [
  {
   "cell_type": "code",
   "execution_count": 28,
   "metadata": {},
   "outputs": [],
   "source": [
    "import sys\n",
    "import imp\n",
    "import util\n",
    "import diagnosis \n",
    "imp.reload(util)\n",
    "imp.reload(diagnosis)\n",
    "from util import *\n",
    "from diagnosis import *\n",
    "\n"
   ]
  },
  {
   "cell_type": "code",
   "execution_count": null,
   "metadata": {},
   "outputs": [],
   "source": []
  },
  {
   "cell_type": "code",
   "execution_count": 29,
   "metadata": {},
   "outputs": [
    {
     "data": {
      "text/plain": [
       "{'client': {'OSname': 'Windows 10',\n",
       "  'OSver': '1909',\n",
       "  'clientver': '8.0.0.11085',\n",
       "  'usbdisk': {'VID': '090C',\n",
       "   'PID': '1000',\n",
       "   'manufacturer': 'Compatible USB storage device',\n",
       "   'name': 'USB Mass Storage Device',\n",
       "   'driverprovider': 'Microsoft',\n",
       "   'driverver': '10.0.18362.1',\n",
       "   'isRebootNeeded': False,\n",
       "   'isPresent': True,\n",
       "   'hasProblem': False}},\n",
       " 'agent': {'OSname': 'Windows 10',\n",
       "  'OSver': '1909',\n",
       "  'agentver': '7.12.0',\n",
       "  'Horizoncomp': {'VmVideo': 1,\n",
       "   'VmwVdisplay': 1,\n",
       "   'VmwVidd': 1,\n",
       "   'ScannerRedirection': 1,\n",
       "   'SerialPortRedirection': 1,\n",
       "   'SmartCard': 1,\n",
       "   'TSMMR': 1,\n",
       "   'ThinPrint': 1,\n",
       "   'USB': 1,\n",
       "   'V4V': 1,\n",
       "   'VPA': 1,\n",
       "   'VmwVaudio': 1,\n",
       "   'DeviceBridgeBAS': 1,\n",
       "   'SdoSensor': 1,\n",
       "   'HelpDesk': 1,\n",
       "   'RDP': 1,\n",
       "   'BlastUDP': 1,\n",
       "   'Core': 1,\n",
       "   'VMWMediaProviderProxy': 1,\n",
       "   'ClientDriveRedirection': 1,\n",
       "   'RTAV': 1,\n",
       "   'FLASHMMR': 1,\n",
       "   'GEOREDIR': 1,\n",
       "   'PerfTracker': 1,\n",
       "   'SVIAgent': 0,\n",
       "   'NGVC': 0,\n",
       "   'PrintRedir': 0},\n",
       "  'usbdisk': {'VID': '090C',\n",
       "   'PID': '1000',\n",
       "   'manufacturer': 'Compatible USB storage device',\n",
       "   'name': 'USB Mass Storage Device',\n",
       "   'driverprovider': 'Microsoft',\n",
       "   'driverver': '10.0.18362.1',\n",
       "   'isRebootNeeded': False,\n",
       "   'isPresent': True,\n",
       "   'hasProblem': False},\n",
       "  'CDRservice': 'Running'}}"
      ]
     },
     "execution_count": 29,
     "metadata": {},
     "output_type": "execute_result"
    }
   ],
   "source": [
    "import os\n",
    "import json \n",
    "path = '../data/user/'\n",
    "uuid = \"5e2979a2-78de-11ea-a42b-6c4008998958\"\n",
    "for dir in os.listdir(path):\n",
    "    if os.path.isfile(dir):\n",
    "        continue\n",
    "    dir_path = os.path.join(path,dir)\n",
    "    \n",
    "    for file in os.listdir(dir_path):\n",
    "        if(str(file) == uuid + '.json'):\n",
    "            with open(os.path.join(dir_path,file),\"r\") as f:\n",
    "                data = json.load(f)\n",
    "\n",
    "                \n",
    "                \n",
    "data\n",
    "            \n",
    "                "
   ]
  },
  {
   "cell_type": "code",
   "execution_count": 30,
   "metadata": {},
   "outputs": [],
   "source": [
    "# recog devices\n",
    "collected_data = data\n",
    "devices = []\n",
    "recorded_devices = ['usbdisk']\n",
    "for end in collected_data.values(): # agent or client \n",
    "    for key in end.keys(): \n",
    "        if key in recorded_devices:\n",
    "            devices.append(key)\n",
    "        \n",
    "    \n",
    "devices = list(set(devices))\n",
    "\n"
   ]
  },
  {
   "cell_type": "code",
   "execution_count": 31,
   "metadata": {},
   "outputs": [
    {
     "data": {
      "text/plain": [
       "['usbdisk']"
      ]
     },
     "execution_count": 31,
     "metadata": {},
     "output_type": "execute_result"
    }
   ],
   "source": [
    "recognize_devices(data)"
   ]
  },
  {
   "cell_type": "code",
   "execution_count": 32,
   "metadata": {},
   "outputs": [
    {
     "data": {
      "text/plain": [
       "[]"
      ]
     },
     "execution_count": 32,
     "metadata": {},
     "output_type": "execute_result"
    }
   ],
   "source": [
    "\n",
    "\n",
    "\n",
    "\n",
    "devices = ['usbdisk']\n",
    "collected_data = data\n",
    "# 先只显示一个产品\n",
    "# for device in devices:\n",
    "device = devices[0]\n",
    "\n",
    "\n",
    "diagnosis(collected_data, device)\n",
    "\n",
    "\n",
    "\n",
    "\n",
    "\n"
   ]
  },
  {
   "cell_type": "code",
   "execution_count": 26,
   "metadata": {},
   "outputs": [
    {
     "ename": "TypeError",
     "evalue": "unhashable type: 'dict'",
     "output_type": "error",
     "traceback": [
      "\u001b[0;31m---------------------------------------------------------------------------\u001b[0m",
      "\u001b[0;31mTypeError\u001b[0m                                 Traceback (most recent call last)",
      "\u001b[0;32m<ipython-input-26-40a4f8701abb>\u001b[0m in \u001b[0;36m<module>\u001b[0;34m\u001b[0m\n\u001b[1;32m      1\u001b[0m {\n\u001b[0;32m----> 2\u001b[0;31m     \u001b[0;34m'device_name'\u001b[0m\u001b[0;34m:\u001b[0m\u001b[0mcollected_data\u001b[0m\u001b[0;34m[\u001b[0m\u001b[0mend\u001b[0m\u001b[0;34m]\u001b[0m\u001b[0;34m[\u001b[0m\u001b[0mdevice\u001b[0m\u001b[0;34m]\u001b[0m\u001b[0;34m[\u001b[0m\u001b[0;34m'name'\u001b[0m\u001b[0;34m]\u001b[0m\u001b[0;34m,\u001b[0m\u001b[0;34m\u001b[0m\u001b[0;34m\u001b[0m\u001b[0m\n\u001b[0m\u001b[1;32m      3\u001b[0m     \u001b[0;34m'pid'\u001b[0m\u001b[0;34m:\u001b[0m\u001b[0mcollected_data\u001b[0m\u001b[0;34m[\u001b[0m\u001b[0mend\u001b[0m\u001b[0;34m]\u001b[0m\u001b[0;34m[\u001b[0m\u001b[0mdevice\u001b[0m\u001b[0;34m]\u001b[0m\u001b[0;34m[\u001b[0m\u001b[0;34m'PID'\u001b[0m\u001b[0;34m]\u001b[0m\u001b[0;34m,\u001b[0m\u001b[0;34m\u001b[0m\u001b[0;34m\u001b[0m\u001b[0m\n\u001b[1;32m      4\u001b[0m     \u001b[0;34m'vid'\u001b[0m\u001b[0;34m:\u001b[0m\u001b[0mcollected_data\u001b[0m\u001b[0;34m[\u001b[0m\u001b[0mend\u001b[0m\u001b[0;34m]\u001b[0m\u001b[0;34m[\u001b[0m\u001b[0mdevice\u001b[0m\u001b[0;34m]\u001b[0m\u001b[0;34m[\u001b[0m\u001b[0;34m'VID'\u001b[0m\u001b[0;34m]\u001b[0m\u001b[0;34m,\u001b[0m\u001b[0;34m\u001b[0m\u001b[0;34m\u001b[0m\u001b[0m\n\u001b[1;32m      5\u001b[0m     \u001b[0;34m'client_os'\u001b[0m\u001b[0;34m:\u001b[0m\u001b[0mcollected_data\u001b[0m\u001b[0;34m[\u001b[0m\u001b[0;34m'client'\u001b[0m\u001b[0;34m]\u001b[0m\u001b[0;34m[\u001b[0m\u001b[0;34m'OSname'\u001b[0m\u001b[0;34m]\u001b[0m \u001b[0;34m+\u001b[0m \u001b[0;34m' '\u001b[0m \u001b[0;34m+\u001b[0m \u001b[0mcollected_data\u001b[0m\u001b[0;34m[\u001b[0m\u001b[0;34m'client'\u001b[0m\u001b[0;34m]\u001b[0m\u001b[0;34m[\u001b[0m\u001b[0;34m'OSver'\u001b[0m\u001b[0;34m]\u001b[0m\u001b[0;34m,\u001b[0m\u001b[0;34m\u001b[0m\u001b[0;34m\u001b[0m\u001b[0m\n",
      "\u001b[0;31mTypeError\u001b[0m: unhashable type: 'dict'"
     ]
    }
   ],
   "source": [
    "{\n",
    "    'device_name':collected_data[end][device]['name'],\n",
    "    'pid':collected_data[end][device]['PID'],\n",
    "    'vid':collected_data[end][device]['VID'],\n",
    "    'client_os':collected_data['client']['OSname'] + ' ' + collected_data['client']['OSver'],\n",
    "    'Horizon_version_client':collected_data['client']['clientver'],\n",
    "}\n"
   ]
  },
  {
   "cell_type": "code",
   "execution_count": 10,
   "metadata": {},
   "outputs": [],
   "source": [
    "a = None\n",
    "if a !=  None:\n",
    "    print(\"a\")\n",
    "    "
   ]
  },
  {
   "cell_type": "code",
   "execution_count": 12,
   "metadata": {},
   "outputs": [
    {
     "data": {
      "text/plain": [
       "'Please install the device component in Horizon client'"
      ]
     },
     "execution_count": 12,
     "metadata": {},
     "output_type": "execute_result"
    }
   ],
   "source": [
    "a = \"Please install the xxx component in Horizon client\"\n",
    "a.replace(\"xxx\", \"device\")"
   ]
  },
  {
   "cell_type": "code",
   "execution_count": null,
   "metadata": {},
   "outputs": [],
   "source": []
  }
 ],
 "metadata": {
  "kernelspec": {
   "display_name": "Python 3",
   "language": "python",
   "name": "python3"
  },
  "language_info": {
   "codemirror_mode": {
    "name": "ipython",
    "version": 3
   },
   "file_extension": ".py",
   "mimetype": "text/x-python",
   "name": "python",
   "nbconvert_exporter": "python",
   "pygments_lexer": "ipython3",
   "version": "3.7.4"
  },
  "pycharm": {
   "stem_cell": {
    "cell_type": "raw",
    "metadata": {
     "collapsed": false
    },
    "source": []
   }
  }
 },
 "nbformat": 4,
 "nbformat_minor": 4
}
