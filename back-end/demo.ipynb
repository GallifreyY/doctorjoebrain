{
 "cells": [
  {
   "cell_type": "code",
   "execution_count": 1,
   "metadata": {},
   "outputs": [],
   "source": [
    "from models import *\n",
    "from util import *"
   ]
  },
  {
   "cell_type": "code",
   "execution_count": 3,
   "metadata": {},
   "outputs": [
    {
     "data": {
      "text/plain": [
       "[{'device_id': 0,\n",
       "  'device_name': 'Nuance Power MIC III',\n",
       "  'description': 'Designed to enhance productivity and provide ergonomic control of both standard dictation and speech recognition functions.',\n",
       "  'picture': 'mic.jpg',\n",
       "  'vendor_id': 0,\n",
       "  'vendor_name': 'Nuance',\n",
       "  'vendor_link': 'https://www.nuance.com',\n",
       "  'vendor_logo': 'nuance.jpg'}]"
      ]
     },
     "execution_count": 3,
     "metadata": {},
     "output_type": "execute_result"
    }
   ],
   "source": [
    "item = Device.query.join(Vendor, Vendor.vendor_id == Device.vendor_id).filter(Device.device_id == 0)\\\n",
    "    .with_entities(Device.device_id, Device.device_name,Device.description,\n",
    "                   Device.picture, Vendor.vendor_id,Vendor.vendor_name,\n",
    "                   Vendor.vendor_link, Vendor.vendor_logo).all()\n",
    "\n",
    "#a = list(map(lambda x: x.to_json(), item))\n",
    "b = to_json_join(item)\n",
    "b"
   ]
  },
  {
   "cell_type": "code",
   "execution_count": 7,
   "metadata": {},
   "outputs": [
    {
     "data": {
      "text/plain": [
       "[{'A': 0}]"
      ]
     },
     "execution_count": 7,
     "metadata": {},
     "output_type": "execute_result"
    }
   ],
   "source": [
    "item = Device.query.with_entities(Device.device_id.label(\"A\")).all()\n",
    "\n",
    "to_json_join(item)\n"
   ]
  },
  {
   "cell_type": "code",
   "execution_count": null,
   "metadata": {},
   "outputs": [],
   "source": []
  }
 ],
 "metadata": {
  "kernelspec": {
   "display_name": "Python 3",
   "language": "python",
   "name": "python3"
  },
  "language_info": {
   "codemirror_mode": {
    "name": "ipython",
    "version": 3
   },
   "file_extension": ".py",
   "mimetype": "text/x-python",
   "name": "python",
   "nbconvert_exporter": "python",
   "pygments_lexer": "ipython3",
   "version": "3.7.4"
  }
 },
 "nbformat": 4,
 "nbformat_minor": 4
}
